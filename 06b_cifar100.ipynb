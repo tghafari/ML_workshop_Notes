{
 "cells": [
  {
   "cell_type": "markdown",
   "id": "5489e6d1-2c43-4051-9c34-a75d601686e2",
   "metadata": {},
   "source": [
    "# Image Classification with the CIFAR-100 Dataset"
   ]
  },
  {
   "cell_type": "markdown",
   "id": "06602ccb-386b-45af-b635-8563c16515bf",
   "metadata": {},
   "source": [
    "The [CIFAR-100](https://www.cs.toronto.edu/~kriz/cifar.html) dataset consists of 60,000 32×32 colour images in 100 classes, with 600 images per class. There are 50,000 training images and 10,000 test images.\n",
    "\n",
    "The dataset is divided into five training batches and one test batch, each with 10,000 images. The test batch contains exactly 100 randomly-selected images from each class. The training batches contain the remaining images in random order, but some training batches may contain more images from one class than another. Between them, the training batches contain exactly 500 images from each class.\n",
    "\n",
    "The 100 classes in the CIFAR-100 are grouped into 20 superclasses. Each image comes with a \"fine\" label (the class to which it belongs) and a \"coarse\" label (the superclass to which it belongs). It is a challenging dataset for machine learning models to train on, but it is a good dataset to learn from because it is representative of the real world.\n",
    "\n",
    "Here is the list of classes in the CIFAR-100:\n",
    "\n",
    "| Superclass                     | Classes                                               |\n",
    "| ------------------------------ | ----------------------------------------------------- |\n",
    "| aquatic mammals                | beaver, dolphin, otter, seal, whale                   |\n",
    "| fish                           | aquarium fish, flatfish, ray, shark, trout            |\n",
    "| flowers                        | orchids, poppies, roses, sunflowers, tulips           |\n",
    "| food containers                | bottles, bowls, cans, cups, plates                    |\n",
    "| fruit and vegetables           | apples, mushrooms, oranges, pears, sweet peppers      |\n",
    "| household electrical devices   | clock, computer keyboard, lamp, telephone, television |\n",
    "| household furniture            | bed, chair, couch, table, wardrobe                    |\n",
    "| insects                        | bee, beetle, butterfly, caterpillar, cockroach        |\n",
    "| large carnivores               | bear, leopard, lion, tiger, wolf                      |\n",
    "| large man-made outdoor things  | bridge, castle, house, road, skyscraper               |\n",
    "| large natural outdoor scenes   | cloud, forest, mountain, plain, sea                   |\n",
    "| large omnivores and herbivores | camel, cattle, chimpanzee, elephant, kangaroo         |\n",
    "| medium-sized mammals           | fox, porcupine, possum, raccoon, skunk                |\n",
    "| non-insect invertebrates       | crab, lobster, snail, spider, worm                    |\n",
    "| people                         | baby, boy, girl, man, woman                           |\n",
    "| reptiles                       | crocodile, dinosaur, lizard, snake, turtle            |\n",
    "| small mammals                  | hamster, mouse, rabbit, shrew, squirrel               |\n",
    "| trees                          | maple, oak, palm, pine, willow                        |\n",
    "| vehicles 1                     | bicycle, bus, motorcycle, pickup truck, train         |\n",
    "| vehicles 2                     | lawn-mower, rocket, streetcar, tank, tractor          |"
   ]
  },
  {
   "cell_type": "markdown",
   "id": "f46f8882-5460-44f7-af46-6485e290f660",
   "metadata": {},
   "source": [
    "## The CIFAR-100 dataset"
   ]
  },
  {
   "cell_type": "markdown",
   "id": "1de65125-eeb2-45aa-9677-af7d637a2362",
   "metadata": {},
   "source": [
    "Run the following cell to define the CIFAR-100 class names, load the dataset using [Keras](https://www.tensorflow.org/api_docs/python/tf/keras/datasets/cifar100/load_data) and plot a 3×4 grid with random images from the dataset along with their class:"
   ]
  },
  {
   "cell_type": "code",
   "execution_count": null,
   "id": "103fde01-b973-4c1b-a8b1-641ade23ec21",
   "metadata": {},
   "outputs": [],
   "source": [
    "import random\n",
    "import tensorflow as tf\n",
    "import matplotlib.pyplot as plt\n",
    "%matplotlib inline\n",
    "\n",
    "def show_samples(data, labels, classes):\n",
    "    plt.subplots(figsize=(11, 9))\n",
    "    for i in range(12):\n",
    "        plt.subplot(3, 4, i+1)\n",
    "        k = random.randint(0, data.shape[0])\n",
    "        plt.title(classes[int(labels[k])])\n",
    "        plt.imshow(data[k])\n",
    "    plt.tight_layout()\n",
    "    plt.show()\n",
    "\n",
    "# Associate labels with class names: label 0 is apple, label 1 is aquarium fish etc.\n",
    "classes = [\n",
    "    'apple', 'aquarium_fish', 'baby', 'bear', 'beaver', 'bed', 'bee', 'beetle',\n",
    "    'bicycle', 'bottle', 'bowl', 'boy', 'bridge', 'bus', 'butterfly', 'camel',\n",
    "    'can', 'castle', 'caterpillar', 'cattle', 'chair', 'chimpanzee', 'clock',\n",
    "    'cloud', 'cockroach', 'couch', 'crab', 'crocodile', 'cup', 'dinosaur',\n",
    "    'dolphin', 'elephant', 'flatfish', 'forest', 'fox', 'girl', 'hamster',\n",
    "    'house', 'kangaroo', 'keyboard', 'lamp', 'lawn_mower', 'leopard', 'lion',\n",
    "    'lizard', 'lobster', 'man', 'maple_tree', 'motorcycle', 'mountain', 'mouse',\n",
    "    'mushroom', 'oak_tree', 'orange', 'orchid', 'otter', 'palm_tree', 'pear',\n",
    "    'pickup_truck', 'pine_tree', 'plain', 'plate', 'poppy', 'porcupine',\n",
    "    'possum', 'rabbit', 'raccoon', 'ray', 'road', 'rocket', 'rose',\n",
    "    'sea', 'seal', 'shark', 'shrew', 'skunk', 'skyscraper', 'snail', 'snake',\n",
    "    'spider', 'squirrel', 'streetcar', 'sunflower', 'sweet_pepper', 'table',\n",
    "    'tank', 'telephone', 'television', 'tiger', 'tractor', 'train', 'trout',\n",
    "    'tulip', 'turtle', 'wardrobe', 'whale', 'willow_tree', 'wolf', 'woman',\n",
    "    'worm'\n",
    "]\n",
    "\n",
    "# Load the CIFAR-100 dataset\n",
    "(x_train, y_train), (x_valid, y_valid) = tf.keras.datasets.cifar100.load_data()\n",
    "\n",
    "# Plot a 3x4 grid with images from CIFAR-100 along with the class name\n",
    "show_samples(x_train, y_train, classes)"
   ]
  },
  {
   "cell_type": "markdown",
   "id": "e5e4970c-5ee5-4f57-bfca-bd2b58f5a98e",
   "metadata": {},
   "source": [
    "## Objective\n",
    "\n",
    "The goal of this exercise is for you to design and implement a model that achieves at least 50% validation accuracy on the CIFAR-100 dataset in less than 15 minutes of training, **without** using any transfer learning techniques like we did in [notebook 05b](05b_presidential_doggy_door.ipynb). You can use the `%%time` magic command in a cell to measure the execution time of that cell:"
   ]
  },
  {
   "cell_type": "code",
   "execution_count": null,
   "id": "d49b1c99-abc2-4b5b-a5b8-7efa744244bd",
   "metadata": {},
   "outputs": [],
   "source": [
    "%%time\n",
    "\n",
    "print(\"Hello, world!\")"
   ]
  },
  {
   "cell_type": "markdown",
   "id": "9f922b47-0f6b-4b7a-874d-3927951d6233",
   "metadata": {},
   "source": [
    "You should:\n",
    "\n",
    "* Load and preprocess the CIFAR-100 dataset.\n",
    "* Design a machine learning model to classify images in the CIFAR-100 dataset.\n",
    "* Train and evaluate your model on the CIFAR-100 dataset.\n",
    "* Optimize your model to achieve at least 50% validation accuracy in less than 15 minutes of training, in total.\n",
    "\n",
    "Let's get started!"
   ]
  }
 ],
 "metadata": {
  "kernelspec": {
   "display_name": "Python",
   "language": "python",
   "name": "sys_python"
  },
  "language_info": {
   "codemirror_mode": {
    "name": "ipython",
    "version": 3
   },
   "file_extension": ".py",
   "mimetype": "text/x-python",
   "name": "python",
   "nbconvert_exporter": "python",
   "pygments_lexer": "ipython3",
   "version": "3.9.5"
  }
 },
 "nbformat": 4,
 "nbformat_minor": 5
}
